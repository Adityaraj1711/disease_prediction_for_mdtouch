{
 "cells": [
  {
   "cell_type": "code",
   "execution_count": 1,
   "metadata": {},
   "outputs": [],
   "source": [
    "import csv"
   ]
  },
  {
   "cell_type": "code",
   "execution_count": 2,
   "metadata": {},
   "outputs": [],
   "source": [
    "with open(\"appointment.csv\",\"w\") as csvfile:\n",
    "    writer = csv.writer(csvfile)\n",
    "    writer.writerow([\"appointment_accepted\",\"appointment_rejected\",\"avg_request_per_day\",\"label\"])\n",
    "    "
   ]
  },
  {
   "cell_type": "code",
   "execution_count": 4,
   "metadata": {},
   "outputs": [
    {
     "name": "stdout",
     "output_type": "stream",
     "text": [
      "appointment_accepted,appointment_rejected,avg_request_per_day,label\n",
      "\n",
      "\n"
     ]
    }
   ],
   "source": [
    "with open(\"appointment.csv\") as csvfile:\n",
    "    x = csvfile.read()\n",
    "    print(x)"
   ]
  },
  {
   "cell_type": "code",
   "execution_count": 8,
   "metadata": {},
   "outputs": [],
   "source": [
    "with open(\"appointment.csv\",\"a\") as csvfile:\n",
    "    writer = csv.writer(csvfile)\n",
    "    import random\n",
    "    for a in range(2):\n",
    "        writer.writerow([random.randint(0,10),random.randint(0,5),random.randint(1,4),1])"
   ]
  },
  {
   "cell_type": "code",
   "execution_count": 9,
   "metadata": {},
   "outputs": [],
   "source": [
    "with open(\"appointment.csv\",\"a\") as csvfile:\n",
    "    writer = csv.writer(csvfile)\n",
    "    import random\n",
    "    for a in range(100):\n",
    "        writer.writerow([random.randint(23,50),random.randint(10,23),random.randint(1,4),1])"
   ]
  },
  {
   "cell_type": "code",
   "execution_count": 12,
   "metadata": {},
   "outputs": [],
   "source": [
    "with open(\"appointment.csv\",\"a\") as csvfile:\n",
    "    writer = csv.writer(csvfile)\n",
    "    import random\n",
    "    for a in range(100):\n",
    "        a = random.randint(1,100)\n",
    "        b = random.randint(1,100)\n",
    "        c = random.randint(40,100)\n",
    "        if(a//2>b):\n",
    "            writer.writerow([a,b,c,1])"
   ]
  },
  {
   "cell_type": "code",
   "execution_count": 14,
   "metadata": {},
   "outputs": [],
   "source": [
    "with open(\"appointment.csv\",\"a\") as csvfile:\n",
    "    writer = csv.writer(csvfile)\n",
    "    import random\n",
    "    for a in range(30):\n",
    "        a = random.randint(50,100)\n",
    "        b = random.randint(10,20)\n",
    "        c = random.randint(1,1000)\n",
    "        #if(a//2>b):\n",
    "        writer.writerow([a,b,c,1])"
   ]
  },
  {
   "cell_type": "markdown",
   "metadata": {},
   "source": [
    "# For forgery labels : 0 represent forgery"
   ]
  },
  {
   "cell_type": "code",
   "execution_count": 15,
   "metadata": {},
   "outputs": [],
   "source": [
    "with open(\"appointment.csv\",\"a\") as csvfile:\n",
    "    writer = csv.writer(csvfile)\n",
    "    import random\n",
    "    for a in range(100):\n",
    "        a = random.randint(1,10)\n",
    "        b = random.randint(4,20)\n",
    "        c = random.randint(10,20)\n",
    "        #if(a//2>b):\n",
    "        writer.writerow([a,b,c,0])"
   ]
  },
  {
   "cell_type": "code",
   "execution_count": 19,
   "metadata": {},
   "outputs": [],
   "source": [
    "with open(\"appointment.csv\",\"a\") as csvfile:\n",
    "    writer = csv.writer(csvfile)\n",
    "    import random\n",
    "    for a in range(100):\n",
    "        a = random.randint(10,100)\n",
    "        b = random.randint(70,200)\n",
    "        c = random.randint(1,5)\n",
    "        if(a//8<b):\n",
    "            writer.writerow([a,b,c,0])"
   ]
  },
  {
   "cell_type": "code",
   "execution_count": 20,
   "metadata": {},
   "outputs": [],
   "source": [
    "with open(\"appointment.csv\",\"a\") as csvfile:\n",
    "    writer = csv.writer(csvfile)\n",
    "    import random\n",
    "    for a in range(30):\n",
    "        a = random.randint(1,4)\n",
    "        b = random.randint(4,20)\n",
    "        c = random.randint(1,5)\n",
    "        #if(a//8<b):\n",
    "        writer.writerow([a,b,c,0])"
   ]
  },
  {
   "cell_type": "code",
   "execution_count": null,
   "metadata": {},
   "outputs": [],
   "source": []
  }
 ],
 "metadata": {
  "kernelspec": {
   "display_name": "Python 3",
   "language": "python",
   "name": "python3"
  },
  "language_info": {
   "codemirror_mode": {
    "name": "ipython",
    "version": 3
   },
   "file_extension": ".py",
   "mimetype": "text/x-python",
   "name": "python",
   "nbconvert_exporter": "python",
   "pygments_lexer": "ipython3",
   "version": "3.5.5"
  }
 },
 "nbformat": 4,
 "nbformat_minor": 2
}
